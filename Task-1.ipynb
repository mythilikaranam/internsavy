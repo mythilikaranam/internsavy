{
 "cells": [
  {
   "cell_type": "markdown",
   "id": "8ddead9b",
   "metadata": {},
   "source": [
    "### `Use classification technique for prediction of Graduate Admissions from an Indian perspective`"
   ]
  },
  {
   "cell_type": "markdown",
   "id": "6ddd8e11",
   "metadata": {},
   "source": [
    "**Importing required libraries**"
   ]
  },
  {
   "cell_type": "code",
   "execution_count": 90,
   "id": "90ec3454",
   "metadata": {},
   "outputs": [],
   "source": [
    "import pandas as pd\n",
    "import numpy as np\n",
    "import matplotlib.pyplot as plt\n",
    "import seaborn as sns\n",
    "import warnings\n",
    "warnings.filterwarnings(\"ignore\")"
   ]
  },
  {
   "cell_type": "markdown",
   "id": "121330a7",
   "metadata": {},
   "source": [
    "**Load the data set**"
   ]
  },
  {
   "cell_type": "code",
   "execution_count": 91,
   "id": "920c0fd5",
   "metadata": {},
   "outputs": [
    {
     "data": {
      "text/html": [
       "<div>\n",
       "<style scoped>\n",
       "    .dataframe tbody tr th:only-of-type {\n",
       "        vertical-align: middle;\n",
       "    }\n",
       "\n",
       "    .dataframe tbody tr th {\n",
       "        vertical-align: top;\n",
       "    }\n",
       "\n",
       "    .dataframe thead th {\n",
       "        text-align: right;\n",
       "    }\n",
       "</style>\n",
       "<table border=\"1\" class=\"dataframe\">\n",
       "  <thead>\n",
       "    <tr style=\"text-align: right;\">\n",
       "      <th></th>\n",
       "      <th>Serial No.</th>\n",
       "      <th>GRE Score</th>\n",
       "      <th>TOEFL Score</th>\n",
       "      <th>University Rating</th>\n",
       "      <th>SOP</th>\n",
       "      <th>LOR</th>\n",
       "      <th>CGPA</th>\n",
       "      <th>Research</th>\n",
       "      <th>Chance of Admit</th>\n",
       "    </tr>\n",
       "  </thead>\n",
       "  <tbody>\n",
       "    <tr>\n",
       "      <th>0</th>\n",
       "      <td>1</td>\n",
       "      <td>337</td>\n",
       "      <td>118</td>\n",
       "      <td>4</td>\n",
       "      <td>4.5</td>\n",
       "      <td>4.5</td>\n",
       "      <td>9.65</td>\n",
       "      <td>1</td>\n",
       "      <td>0.92</td>\n",
       "    </tr>\n",
       "    <tr>\n",
       "      <th>1</th>\n",
       "      <td>2</td>\n",
       "      <td>324</td>\n",
       "      <td>107</td>\n",
       "      <td>4</td>\n",
       "      <td>4.0</td>\n",
       "      <td>4.5</td>\n",
       "      <td>8.87</td>\n",
       "      <td>1</td>\n",
       "      <td>0.76</td>\n",
       "    </tr>\n",
       "    <tr>\n",
       "      <th>2</th>\n",
       "      <td>3</td>\n",
       "      <td>316</td>\n",
       "      <td>104</td>\n",
       "      <td>3</td>\n",
       "      <td>3.0</td>\n",
       "      <td>3.5</td>\n",
       "      <td>8.00</td>\n",
       "      <td>1</td>\n",
       "      <td>0.72</td>\n",
       "    </tr>\n",
       "    <tr>\n",
       "      <th>3</th>\n",
       "      <td>4</td>\n",
       "      <td>322</td>\n",
       "      <td>110</td>\n",
       "      <td>3</td>\n",
       "      <td>3.5</td>\n",
       "      <td>2.5</td>\n",
       "      <td>8.67</td>\n",
       "      <td>1</td>\n",
       "      <td>0.80</td>\n",
       "    </tr>\n",
       "    <tr>\n",
       "      <th>4</th>\n",
       "      <td>5</td>\n",
       "      <td>314</td>\n",
       "      <td>103</td>\n",
       "      <td>2</td>\n",
       "      <td>2.0</td>\n",
       "      <td>3.0</td>\n",
       "      <td>8.21</td>\n",
       "      <td>0</td>\n",
       "      <td>0.65</td>\n",
       "    </tr>\n",
       "    <tr>\n",
       "      <th>...</th>\n",
       "      <td>...</td>\n",
       "      <td>...</td>\n",
       "      <td>...</td>\n",
       "      <td>...</td>\n",
       "      <td>...</td>\n",
       "      <td>...</td>\n",
       "      <td>...</td>\n",
       "      <td>...</td>\n",
       "      <td>...</td>\n",
       "    </tr>\n",
       "    <tr>\n",
       "      <th>395</th>\n",
       "      <td>396</td>\n",
       "      <td>324</td>\n",
       "      <td>110</td>\n",
       "      <td>3</td>\n",
       "      <td>3.5</td>\n",
       "      <td>3.5</td>\n",
       "      <td>9.04</td>\n",
       "      <td>1</td>\n",
       "      <td>0.82</td>\n",
       "    </tr>\n",
       "    <tr>\n",
       "      <th>396</th>\n",
       "      <td>397</td>\n",
       "      <td>325</td>\n",
       "      <td>107</td>\n",
       "      <td>3</td>\n",
       "      <td>3.0</td>\n",
       "      <td>3.5</td>\n",
       "      <td>9.11</td>\n",
       "      <td>1</td>\n",
       "      <td>0.84</td>\n",
       "    </tr>\n",
       "    <tr>\n",
       "      <th>397</th>\n",
       "      <td>398</td>\n",
       "      <td>330</td>\n",
       "      <td>116</td>\n",
       "      <td>4</td>\n",
       "      <td>5.0</td>\n",
       "      <td>4.5</td>\n",
       "      <td>9.45</td>\n",
       "      <td>1</td>\n",
       "      <td>0.91</td>\n",
       "    </tr>\n",
       "    <tr>\n",
       "      <th>398</th>\n",
       "      <td>399</td>\n",
       "      <td>312</td>\n",
       "      <td>103</td>\n",
       "      <td>3</td>\n",
       "      <td>3.5</td>\n",
       "      <td>4.0</td>\n",
       "      <td>8.78</td>\n",
       "      <td>0</td>\n",
       "      <td>0.67</td>\n",
       "    </tr>\n",
       "    <tr>\n",
       "      <th>399</th>\n",
       "      <td>400</td>\n",
       "      <td>333</td>\n",
       "      <td>117</td>\n",
       "      <td>4</td>\n",
       "      <td>5.0</td>\n",
       "      <td>4.0</td>\n",
       "      <td>9.66</td>\n",
       "      <td>1</td>\n",
       "      <td>0.95</td>\n",
       "    </tr>\n",
       "  </tbody>\n",
       "</table>\n",
       "<p>400 rows × 9 columns</p>\n",
       "</div>"
      ],
      "text/plain": [
       "     Serial No.  GRE Score  TOEFL Score  University Rating  SOP  LOR   CGPA  \\\n",
       "0             1        337          118                  4  4.5   4.5  9.65   \n",
       "1             2        324          107                  4  4.0   4.5  8.87   \n",
       "2             3        316          104                  3  3.0   3.5  8.00   \n",
       "3             4        322          110                  3  3.5   2.5  8.67   \n",
       "4             5        314          103                  2  2.0   3.0  8.21   \n",
       "..          ...        ...          ...                ...  ...   ...   ...   \n",
       "395         396        324          110                  3  3.5   3.5  9.04   \n",
       "396         397        325          107                  3  3.0   3.5  9.11   \n",
       "397         398        330          116                  4  5.0   4.5  9.45   \n",
       "398         399        312          103                  3  3.5   4.0  8.78   \n",
       "399         400        333          117                  4  5.0   4.0  9.66   \n",
       "\n",
       "     Research  Chance of Admit   \n",
       "0           1              0.92  \n",
       "1           1              0.76  \n",
       "2           1              0.72  \n",
       "3           1              0.80  \n",
       "4           0              0.65  \n",
       "..        ...               ...  \n",
       "395         1              0.82  \n",
       "396         1              0.84  \n",
       "397         1              0.91  \n",
       "398         0              0.67  \n",
       "399         1              0.95  \n",
       "\n",
       "[400 rows x 9 columns]"
      ]
     },
     "execution_count": 91,
     "metadata": {},
     "output_type": "execute_result"
    }
   ],
   "source": [
    "df=pd.read_csv(r\"C:\\Users\\mythi\\Downloads\\task-1 internsavy\\Admission_Predict.csv\")\n",
    "df"
   ]
  },
  {
   "cell_type": "code",
   "execution_count": 92,
   "id": "47c14a1d",
   "metadata": {},
   "outputs": [
    {
     "name": "stdout",
     "output_type": "stream",
     "text": [
      "<class 'pandas.core.frame.DataFrame'>\n",
      "RangeIndex: 400 entries, 0 to 399\n",
      "Data columns (total 9 columns):\n",
      " #   Column             Non-Null Count  Dtype  \n",
      "---  ------             --------------  -----  \n",
      " 0   Serial No.         400 non-null    int64  \n",
      " 1   GRE Score          400 non-null    int64  \n",
      " 2   TOEFL Score        400 non-null    int64  \n",
      " 3   University Rating  400 non-null    int64  \n",
      " 4   SOP                400 non-null    float64\n",
      " 5   LOR                400 non-null    float64\n",
      " 6   CGPA               400 non-null    float64\n",
      " 7   Research           400 non-null    int64  \n",
      " 8   Chance of Admit    400 non-null    float64\n",
      "dtypes: float64(4), int64(5)\n",
      "memory usage: 28.2 KB\n"
     ]
    }
   ],
   "source": [
    "df.info()"
   ]
  },
  {
   "cell_type": "code",
   "execution_count": 93,
   "id": "8e526733",
   "metadata": {},
   "outputs": [
    {
     "data": {
      "text/plain": [
       "0"
      ]
     },
     "execution_count": 93,
     "metadata": {},
     "output_type": "execute_result"
    }
   ],
   "source": [
    "df.duplicated().sum()"
   ]
  },
  {
   "cell_type": "code",
   "execution_count": 94,
   "id": "72e074b7",
   "metadata": {},
   "outputs": [
    {
     "data": {
      "text/plain": [
       "Index(['Serial No.', 'GRE Score', 'TOEFL Score', 'University Rating', 'SOP',\n",
       "       'LOR ', 'CGPA', 'Research', 'Chance of Admit '],\n",
       "      dtype='object')"
      ]
     },
     "execution_count": 94,
     "metadata": {},
     "output_type": "execute_result"
    }
   ],
   "source": [
    "df.columns"
   ]
  },
  {
   "cell_type": "code",
   "execution_count": 95,
   "id": "ce17699c",
   "metadata": {},
   "outputs": [
    {
     "data": {
      "text/plain": [
       "(400, 9)"
      ]
     },
     "execution_count": 95,
     "metadata": {},
     "output_type": "execute_result"
    }
   ],
   "source": [
    "df.shape"
   ]
  },
  {
   "cell_type": "code",
   "execution_count": 96,
   "id": "166d638c",
   "metadata": {},
   "outputs": [
    {
     "data": {
      "text/plain": [
       "Serial No.           0\n",
       "GRE Score            0\n",
       "TOEFL Score          0\n",
       "University Rating    0\n",
       "SOP                  0\n",
       "LOR                  0\n",
       "CGPA                 0\n",
       "Research             0\n",
       "Chance of Admit      0\n",
       "dtype: int64"
      ]
     },
     "execution_count": 96,
     "metadata": {},
     "output_type": "execute_result"
    }
   ],
   "source": [
    "df.isnull().sum()"
   ]
  },
  {
   "cell_type": "code",
   "execution_count": 97,
   "id": "7c2a84d0",
   "metadata": {},
   "outputs": [],
   "source": [
    "df.drop('Serial No.',axis=1,inplace=True)"
   ]
  },
  {
   "cell_type": "code",
   "execution_count": 98,
   "id": "931b5964",
   "metadata": {},
   "outputs": [
    {
     "data": {
      "text/html": [
       "<div>\n",
       "<style scoped>\n",
       "    .dataframe tbody tr th:only-of-type {\n",
       "        vertical-align: middle;\n",
       "    }\n",
       "\n",
       "    .dataframe tbody tr th {\n",
       "        vertical-align: top;\n",
       "    }\n",
       "\n",
       "    .dataframe thead th {\n",
       "        text-align: right;\n",
       "    }\n",
       "</style>\n",
       "<table border=\"1\" class=\"dataframe\">\n",
       "  <thead>\n",
       "    <tr style=\"text-align: right;\">\n",
       "      <th></th>\n",
       "      <th>GRE Score</th>\n",
       "      <th>TOEFL Score</th>\n",
       "      <th>University Rating</th>\n",
       "      <th>SOP</th>\n",
       "      <th>LOR</th>\n",
       "      <th>CGPA</th>\n",
       "      <th>Research</th>\n",
       "      <th>Chance of Admit</th>\n",
       "    </tr>\n",
       "  </thead>\n",
       "  <tbody>\n",
       "    <tr>\n",
       "      <th>0</th>\n",
       "      <td>337</td>\n",
       "      <td>118</td>\n",
       "      <td>4</td>\n",
       "      <td>4.5</td>\n",
       "      <td>4.5</td>\n",
       "      <td>9.65</td>\n",
       "      <td>1</td>\n",
       "      <td>0.92</td>\n",
       "    </tr>\n",
       "    <tr>\n",
       "      <th>1</th>\n",
       "      <td>324</td>\n",
       "      <td>107</td>\n",
       "      <td>4</td>\n",
       "      <td>4.0</td>\n",
       "      <td>4.5</td>\n",
       "      <td>8.87</td>\n",
       "      <td>1</td>\n",
       "      <td>0.76</td>\n",
       "    </tr>\n",
       "    <tr>\n",
       "      <th>2</th>\n",
       "      <td>316</td>\n",
       "      <td>104</td>\n",
       "      <td>3</td>\n",
       "      <td>3.0</td>\n",
       "      <td>3.5</td>\n",
       "      <td>8.00</td>\n",
       "      <td>1</td>\n",
       "      <td>0.72</td>\n",
       "    </tr>\n",
       "    <tr>\n",
       "      <th>3</th>\n",
       "      <td>322</td>\n",
       "      <td>110</td>\n",
       "      <td>3</td>\n",
       "      <td>3.5</td>\n",
       "      <td>2.5</td>\n",
       "      <td>8.67</td>\n",
       "      <td>1</td>\n",
       "      <td>0.80</td>\n",
       "    </tr>\n",
       "    <tr>\n",
       "      <th>4</th>\n",
       "      <td>314</td>\n",
       "      <td>103</td>\n",
       "      <td>2</td>\n",
       "      <td>2.0</td>\n",
       "      <td>3.0</td>\n",
       "      <td>8.21</td>\n",
       "      <td>0</td>\n",
       "      <td>0.65</td>\n",
       "    </tr>\n",
       "  </tbody>\n",
       "</table>\n",
       "</div>"
      ],
      "text/plain": [
       "   GRE Score  TOEFL Score  University Rating  SOP  LOR   CGPA  Research  \\\n",
       "0        337          118                  4  4.5   4.5  9.65         1   \n",
       "1        324          107                  4  4.0   4.5  8.87         1   \n",
       "2        316          104                  3  3.0   3.5  8.00         1   \n",
       "3        322          110                  3  3.5   2.5  8.67         1   \n",
       "4        314          103                  2  2.0   3.0  8.21         0   \n",
       "\n",
       "   Chance of Admit   \n",
       "0              0.92  \n",
       "1              0.76  \n",
       "2              0.72  \n",
       "3              0.80  \n",
       "4              0.65  "
      ]
     },
     "execution_count": 98,
     "metadata": {},
     "output_type": "execute_result"
    }
   ],
   "source": [
    "df.head()"
   ]
  },
  {
   "cell_type": "markdown",
   "id": "b637074e",
   "metadata": {},
   "source": [
    "**`PIE CHART UNIVERSITY RANKING DISTRIBUTION :`**"
   ]
  },
  {
   "cell_type": "code",
   "execution_count": 99,
   "id": "7436bb3b",
   "metadata": {},
   "outputs": [
    {
     "data": {
      "text/plain": [
       "3    133\n",
       "2    107\n",
       "4     74\n",
       "5     60\n",
       "1     26\n",
       "Name: University Rating, dtype: int64"
      ]
     },
     "execution_count": 99,
     "metadata": {},
     "output_type": "execute_result"
    }
   ],
   "source": [
    "df['University Rating'].value_counts()"
   ]
  },
  {
   "cell_type": "markdown",
   "id": "8b680e83",
   "metadata": {},
   "source": [
    "`Observation:`There are almost 133 universitys have 3 star compared when to the count of 4 and 5 star is less."
   ]
  },
  {
   "cell_type": "code",
   "execution_count": 82,
   "id": "90a11b49",
   "metadata": {},
   "outputs": [
    {
     "data": {
      "image/png": "[encoded data removed]",
      "text/plain": [
       "<Figure size 576x432 with 1 Axes>"
      ]
     },
     "metadata": {},
     "output_type": "display_data"
    }
   ],
   "source": [
    "df['University Rating'].value_counts().plot(kind='pie',autopct='%1.0f%%',figsize=(8,6),\n",
    "                                            title=\"University Rating\")\n",
    "plt.show()"
   ]
  },
  {
   "cell_type": "markdown",
   "id": "443808a7",
   "metadata": {},
   "source": [
    "**`Count plot of Research :`**"
   ]
  },
  {
   "cell_type": "code",
   "execution_count": 84,
   "id": "91121989",
   "metadata": {},
   "outputs": [
    {
     "data": {
      "image/png": "[encoded data removed]",
      "text/plain": [
       "<Figure size 432x288 with 1 Axes>"
      ]
     },
     "metadata": {
      "needs_background": "light"
     },
     "output_type": "display_data"
    }
   ],
   "source": [
    "df.Research.value_counts().plot(kind='bar',title=\"Research Countplot\",color=[\"violet\",\"orange\"])\n",
    "plt.show()"
   ]
  },
  {
   "cell_type": "markdown",
   "id": "8af38354",
   "metadata": {},
   "source": [
    " `Observation :`It is observed maximum research count is 1."
   ]
  },
  {
   "cell_type": "markdown",
   "id": "159fce56",
   "metadata": {},
   "source": [
    "**`Splitting train and test data:`**"
   ]
  },
  {
   "cell_type": "code",
   "execution_count": 10,
   "id": "24179eef",
   "metadata": {},
   "outputs": [],
   "source": [
    "X = df.drop('Chance of Admit ', axis = 1)\n",
    "y = df['Chance of Admit ']"
   ]
  },
  {
   "cell_type": "code",
   "execution_count": 11,
   "id": "3a63b8db",
   "metadata": {},
   "outputs": [],
   "source": [
    "# split into train and test\n",
    "\n",
    "from sklearn.model_selection import train_test_split\n",
    "\n",
    "X_train, X_test, y_train, y_test = train_test_split(X, y, test_size=0.2, random_state=42)"
   ]
  },
  {
   "cell_type": "code",
   "execution_count": 12,
   "id": "d07f866a",
   "metadata": {},
   "outputs": [
    {
     "data": {
      "text/html": [
       "<div>\n",
       "<style scoped>\n",
       "    .dataframe tbody tr th:only-of-type {\n",
       "        vertical-align: middle;\n",
       "    }\n",
       "\n",
       "    .dataframe tbody tr th {\n",
       "        vertical-align: top;\n",
       "    }\n",
       "\n",
       "    .dataframe thead th {\n",
       "        text-align: right;\n",
       "    }\n",
       "</style>\n",
       "<table border=\"1\" class=\"dataframe\">\n",
       "  <thead>\n",
       "    <tr style=\"text-align: right;\">\n",
       "      <th></th>\n",
       "      <th>GRE Score</th>\n",
       "      <th>TOEFL Score</th>\n",
       "      <th>University Rating</th>\n",
       "      <th>SOP</th>\n",
       "      <th>LOR</th>\n",
       "      <th>CGPA</th>\n",
       "      <th>Research</th>\n",
       "    </tr>\n",
       "  </thead>\n",
       "  <tbody>\n",
       "    <tr>\n",
       "      <th>3</th>\n",
       "      <td>322</td>\n",
       "      <td>110</td>\n",
       "      <td>3</td>\n",
       "      <td>3.5</td>\n",
       "      <td>2.5</td>\n",
       "      <td>8.67</td>\n",
       "      <td>1</td>\n",
       "    </tr>\n",
       "    <tr>\n",
       "      <th>18</th>\n",
       "      <td>318</td>\n",
       "      <td>110</td>\n",
       "      <td>3</td>\n",
       "      <td>4.0</td>\n",
       "      <td>3.0</td>\n",
       "      <td>8.80</td>\n",
       "      <td>0</td>\n",
       "    </tr>\n",
       "    <tr>\n",
       "      <th>202</th>\n",
       "      <td>340</td>\n",
       "      <td>120</td>\n",
       "      <td>5</td>\n",
       "      <td>4.5</td>\n",
       "      <td>4.5</td>\n",
       "      <td>9.91</td>\n",
       "      <td>1</td>\n",
       "    </tr>\n",
       "    <tr>\n",
       "      <th>250</th>\n",
       "      <td>320</td>\n",
       "      <td>104</td>\n",
       "      <td>3</td>\n",
       "      <td>3.0</td>\n",
       "      <td>2.5</td>\n",
       "      <td>8.57</td>\n",
       "      <td>1</td>\n",
       "    </tr>\n",
       "    <tr>\n",
       "      <th>274</th>\n",
       "      <td>315</td>\n",
       "      <td>100</td>\n",
       "      <td>1</td>\n",
       "      <td>2.0</td>\n",
       "      <td>2.5</td>\n",
       "      <td>7.95</td>\n",
       "      <td>0</td>\n",
       "    </tr>\n",
       "  </tbody>\n",
       "</table>\n",
       "</div>"
      ],
      "text/plain": [
       "     GRE Score  TOEFL Score  University Rating  SOP  LOR   CGPA  Research\n",
       "3          322          110                  3  3.5   2.5  8.67         1\n",
       "18         318          110                  3  4.0   3.0  8.80         0\n",
       "202        340          120                  5  4.5   4.5  9.91         1\n",
       "250        320          104                  3  3.0   2.5  8.57         1\n",
       "274        315          100                  1  2.0   2.5  7.95         0"
      ]
     },
     "execution_count": 12,
     "metadata": {},
     "output_type": "execute_result"
    }
   ],
   "source": [
    "X_train.head()"
   ]
  },
  {
   "cell_type": "code",
   "execution_count": 13,
   "id": "1335b051",
   "metadata": {},
   "outputs": [
    {
     "name": "stdout",
     "output_type": "stream",
     "text": [
      "(320, 7) (320,)\n",
      "(80, 7) (80,)\n"
     ]
    }
   ],
   "source": [
    "print(X_train.shape,y_train.shape)\n",
    "\n",
    "print(X_test.shape,y_test.shape)"
   ]
  },
  {
   "cell_type": "markdown",
   "id": "16eabcc2",
   "metadata": {},
   "source": [
    "**`Standardizing the data :`**"
   ]
  },
  {
   "cell_type": "code",
   "execution_count": 14,
   "id": "bde76b27",
   "metadata": {},
   "outputs": [],
   "source": [
    "# Feature scaling\n",
    "from sklearn.preprocessing import StandardScaler\n",
    "scaler = StandardScaler()\n",
    "X_train_scaled = scaler.fit_transform(X_train)\n",
    "X_test_scaled = scaler.transform(X_test)"
   ]
  },
  {
   "cell_type": "markdown",
   "id": "d7ed07f4",
   "metadata": {},
   "source": [
    "**`Model Training and Evaluation :`**"
   ]
  },
  {
   "cell_type": "markdown",
   "id": "2918af69",
   "metadata": {},
   "source": [
    "**`Linear regression :`**"
   ]
  },
  {
   "cell_type": "code",
   "execution_count": 15,
   "id": "31f3e201",
   "metadata": {},
   "outputs": [
    {
     "data": {
      "text/html": [
       "<style>#sk-container-id-1 {color: black;background-color: white;}#sk-container-id-1 pre{padding: 0;}#sk-container-id-1 div.sk-toggleable {background-color: white;}#sk-container-id-1 label.sk-toggleable__label {cursor: pointer;display: block;width: 100%;margin-bottom: 0;padding: 0.3em;box-sizing: border-box;text-align: center;}#sk-container-id-1 label.sk-toggleable__label-arrow:before {content: \"▸\";float: left;margin-right: 0.25em;color: #696969;}#sk-container-id-1 label.sk-toggleable__label-arrow:hover:before {color: black;}#sk-container-id-1 div.sk-estimator:hover label.sk-toggleable__label-arrow:before {color: black;}#sk-container-id-1 div.sk-toggleable__content {max-height: 0;max-width: 0;overflow: hidden;text-align: left;background-color: #f0f8ff;}#sk-container-id-1 div.sk-toggleable__content pre {margin: 0.2em;color: black;border-radius: 0.25em;background-color: #f0f8ff;}#sk-container-id-1 input.sk-toggleable__control:checked~div.sk-toggleable__content {max-height: 200px;max-width: 100%;overflow: auto;}#sk-container-id-1 input.sk-toggleable__control:checked~label.sk-toggleable__label-arrow:before {content: \"▾\";}#sk-container-id-1 div.sk-estimator input.sk-toggleable__control:checked~label.sk-toggleable__label {background-color: #d4ebff;}#sk-container-id-1 div.sk-label input.sk-toggleable__control:checked~label.sk-toggleable__label {background-color: #d4ebff;}#sk-container-id-1 input.sk-hidden--visually {border: 0;clip: rect(1px 1px 1px 1px);clip: rect(1px, 1px, 1px, 1px);height: 1px;margin: -1px;overflow: hidden;padding: 0;position: absolute;width: 1px;}#sk-container-id-1 div.sk-estimator {font-family: monospace;background-color: #f0f8ff;border: 1px dotted black;border-radius: 0.25em;box-sizing: border-box;margin-bottom: 0.5em;}#sk-container-id-1 div.sk-estimator:hover {background-color: #d4ebff;}#sk-container-id-1 div.sk-parallel-item::after {content: \"\";width: 100%;border-bottom: 1px solid gray;flex-grow: 1;}#sk-container-id-1 div.sk-label:hover label.sk-toggleable__label {background-color: #d4ebff;}#sk-container-id-1 div.sk-serial::before {content: \"\";position: absolute;border-left: 1px solid gray;box-sizing: border-box;top: 0;bottom: 0;left: 50%;z-index: 0;}#sk-container-id-1 div.sk-serial {display: flex;flex-direction: column;align-items: center;background-color: white;padding-right: 0.2em;padding-left: 0.2em;position: relative;}#sk-container-id-1 div.sk-item {position: relative;z-index: 1;}#sk-container-id-1 div.sk-parallel {display: flex;align-items: stretch;justify-content: center;background-color: white;position: relative;}#sk-container-id-1 div.sk-item::before, #sk-container-id-1 div.sk-parallel-item::before {content: \"\";position: absolute;border-left: 1px solid gray;box-sizing: border-box;top: 0;bottom: 0;left: 50%;z-index: -1;}#sk-container-id-1 div.sk-parallel-item {display: flex;flex-direction: column;z-index: 1;position: relative;background-color: white;}#sk-container-id-1 div.sk-parallel-item:first-child::after {align-self: flex-end;width: 50%;}#sk-container-id-1 div.sk-parallel-item:last-child::after {align-self: flex-start;width: 50%;}#sk-container-id-1 div.sk-parallel-item:only-child::after {width: 0;}#sk-container-id-1 div.sk-dashed-wrapped {border: 1px dashed gray;margin: 0 0.4em 0.5em 0.4em;box-sizing: border-box;padding-bottom: 0.4em;background-color: white;}#sk-container-id-1 div.sk-label label {font-family: monospace;font-weight: bold;display: inline-block;line-height: 1.2em;}#sk-container-id-1 div.sk-label-container {text-align: center;}#sk-container-id-1 div.sk-container {/* jupyter's `normalize.less` sets `[hidden] { display: none; }` but bootstrap.min.css set `[hidden] { display: none !important; }` so we also need the `!important` here to be able to override the default hidden behavior on the sphinx rendered scikit-learn.org. See: https://github.com/scikit-learn/scikit-learn/issues/21755 */display: inline-block !important;position: relative;}#sk-container-id-1 div.sk-text-repr-fallback {display: none;}</style><div id=\"sk-container-id-1\" class=\"sk-top-container\"><div class=\"sk-text-repr-fallback\"><pre>LinearRegression()</pre><b>In a Jupyter environment, please rerun this cell to show the HTML representation or trust the notebook. <br />On GitHub, the HTML representation is unable to render, please try loading this page with nbviewer.org.</b></div><div class=\"sk-container\" hidden><div class=\"sk-item\"><div class=\"sk-estimator sk-toggleable\"><input class=\"sk-toggleable__control sk-hidden--visually\" id=\"sk-estimator-id-1\" type=\"checkbox\" checked><label for=\"sk-estimator-id-1\" class=\"sk-toggleable__label sk-toggleable__label-arrow\">LinearRegression</label><div class=\"sk-toggleable__content\"><pre>LinearRegression()</pre></div></div></div></div></div>"
      ],
      "text/plain": [
       "LinearRegression()"
      ]
     },
     "execution_count": 15,
     "metadata": {},
     "output_type": "execute_result"
    }
   ],
   "source": [
    "from sklearn.linear_model import LinearRegression\n",
    "regressor_Linear = LinearRegression()\n",
    "regressor_Linear.fit(X_train_scaled,y_train)"
   ]
  },
  {
   "cell_type": "code",
   "execution_count": 16,
   "id": "757c2a5f",
   "metadata": {},
   "outputs": [],
   "source": [
    "y_test_pred = regressor_Linear.predict(X_test_scaled)"
   ]
  },
  {
   "cell_type": "code",
   "execution_count": 17,
   "id": "a497837f",
   "metadata": {},
   "outputs": [
    {
     "data": {
      "text/html": [
       "<div>\n",
       "<style scoped>\n",
       "    .dataframe tbody tr th:only-of-type {\n",
       "        vertical-align: middle;\n",
       "    }\n",
       "\n",
       "    .dataframe tbody tr th {\n",
       "        vertical-align: top;\n",
       "    }\n",
       "\n",
       "    .dataframe thead th {\n",
       "        text-align: right;\n",
       "    }\n",
       "</style>\n",
       "<table border=\"1\" class=\"dataframe\">\n",
       "  <thead>\n",
       "    <tr style=\"text-align: right;\">\n",
       "      <th></th>\n",
       "      <th>Actual</th>\n",
       "      <th>Predicted</th>\n",
       "    </tr>\n",
       "  </thead>\n",
       "  <tbody>\n",
       "    <tr>\n",
       "      <th>209</th>\n",
       "      <td>0.68</td>\n",
       "      <td>0.651174</td>\n",
       "    </tr>\n",
       "    <tr>\n",
       "      <th>280</th>\n",
       "      <td>0.68</td>\n",
       "      <td>0.723687</td>\n",
       "    </tr>\n",
       "    <tr>\n",
       "      <th>33</th>\n",
       "      <td>0.90</td>\n",
       "      <td>0.935368</td>\n",
       "    </tr>\n",
       "    <tr>\n",
       "      <th>210</th>\n",
       "      <td>0.79</td>\n",
       "      <td>0.821643</td>\n",
       "    </tr>\n",
       "    <tr>\n",
       "      <th>93</th>\n",
       "      <td>0.44</td>\n",
       "      <td>0.581587</td>\n",
       "    </tr>\n",
       "  </tbody>\n",
       "</table>\n",
       "</div>"
      ],
      "text/plain": [
       "     Actual  Predicted\n",
       "209    0.68   0.651174\n",
       "280    0.68   0.723687\n",
       "33     0.90   0.935368\n",
       "210    0.79   0.821643\n",
       "93     0.44   0.581587"
      ]
     },
     "execution_count": 17,
     "metadata": {},
     "output_type": "execute_result"
    }
   ],
   "source": [
    "df_values = pd.DataFrame({'Actual': y_test, 'Predicted': y_test_pred})\n",
    "\n",
    "df_values.head()"
   ]
  },
  {
   "cell_type": "code",
   "execution_count": 18,
   "id": "12b5b491",
   "metadata": {},
   "outputs": [
    {
     "data": {
      "text/plain": [
       "<AxesSubplot:xlabel='Chance of Admit ', ylabel='Count'>"
      ]
     },
     "execution_count": 18,
     "metadata": {},
     "output_type": "execute_result"
    },
    {
     "data": {
      "image/png": "[encoded data removed]",
      "text/plain": [
       "<Figure size 432x288 with 1 Axes>"
      ]
     },
     "metadata": {
      "needs_background": "light"
     },
     "output_type": "display_data"
    }
   ],
   "source": [
    "sns.histplot(y_test, color='blue', alpha=0.5)\n",
    "sns.histplot(y_test_pred, color='red', alpha=0.5)"
   ]
  },
  {
   "cell_type": "code",
   "execution_count": 19,
   "id": "36c1dbf1",
   "metadata": {},
   "outputs": [
    {
     "name": "stdout",
     "output_type": "stream",
     "text": [
      "Mean Absolute Error:  0.04795673362091202\n",
      "Mean Squared Error:  0.00461700337728501\n",
      "Root Mean Squared Error:  0.06794853476922817\n"
     ]
    }
   ],
   "source": [
    "from sklearn import metrics\n",
    "\n",
    "print('Mean Absolute Error: ', metrics.mean_absolute_error(y_test, y_test_pred))\n",
    "\n",
    "print('Mean Squared Error: ', metrics.mean_squared_error(y_test, y_test_pred))\n",
    "\n",
    "print('Root Mean Squared Error: ', np.sqrt(metrics.mean_squared_error(y_test, y_test_pred)))\n"
   ]
  },
  {
   "cell_type": "markdown",
   "id": "ec9ed229",
   "metadata": {},
   "source": [
    "## **`Deep Learning`**"
   ]
  },
  {
   "cell_type": "markdown",
   "id": "9b85df3c",
   "metadata": {},
   "source": [
    "**`Creating Dense layers :`**"
   ]
  },
  {
   "cell_type": "code",
   "execution_count": 20,
   "id": "f3d17d5f",
   "metadata": {},
   "outputs": [],
   "source": [
    "import tensorflow\n",
    "from tensorflow.keras import Sequential\n",
    "from tensorflow.keras.layers import Dense"
   ]
  },
  {
   "cell_type": "code",
   "execution_count": 45,
   "id": "76efa188",
   "metadata": {},
   "outputs": [],
   "source": [
    "model=Sequential()\n",
    "model.add(Dense(7, activation = 'relu', input_dim = 7))\n",
    "model.add(Dense(7, activation = 'relu'))\n",
    "model.add(Dense(1, activation = 'linear'))"
   ]
  },
  {
   "cell_type": "code",
   "execution_count": 46,
   "id": "a3a48fff",
   "metadata": {},
   "outputs": [
    {
     "name": "stdout",
     "output_type": "stream",
     "text": [
      "Model: \"sequential_2\"\n",
      "_________________________________________________________________\n",
      " Layer (type)                Output Shape              Param #   \n",
      "=================================================================\n",
      " dense_8 (Dense)             (None, 7)                 56        \n",
      "                                                                 \n",
      " dense_9 (Dense)             (None, 7)                 56        \n",
      "                                                                 \n",
      " dense_10 (Dense)            (None, 1)                 8         \n",
      "                                                                 \n",
      "=================================================================\n",
      "Total params: 120\n",
      "Trainable params: 120\n",
      "Non-trainable params: 0\n",
      "_________________________________________________________________\n"
     ]
    }
   ],
   "source": [
    "model.summary()"
   ]
  },
  {
   "cell_type": "markdown",
   "id": "ea1bd737",
   "metadata": {},
   "source": [
    "**`Compile :`**"
   ]
  },
  {
   "cell_type": "code",
   "execution_count": 70,
   "id": "33d7115b",
   "metadata": {},
   "outputs": [],
   "source": [
    "model.compile(optimizer=\"Adam\",loss='mean_squared_error')"
   ]
  },
  {
   "cell_type": "markdown",
   "id": "3c8cc080",
   "metadata": {},
   "source": [
    "**`Fitting :`**"
   ]
  },
  {
   "cell_type": "code",
   "execution_count": 71,
   "id": "60edf33c",
   "metadata": {},
   "outputs": [
    {
     "name": "stdout",
     "output_type": "stream",
     "text": [
      "Epoch 1/150\n",
      "26/26 [==============================] - 1s 6ms/step - loss: 0.0029 - val_loss: 0.0056\n",
      "Epoch 2/150\n",
      "26/26 [==============================] - 0s 2ms/step - loss: 0.0029 - val_loss: 0.0057\n",
      "Epoch 3/150\n",
      "26/26 [==============================] - 0s 2ms/step - loss: 0.0029 - val_loss: 0.0056\n",
      "Epoch 4/150\n",
      "26/26 [==============================] - 0s 2ms/step - loss: 0.0030 - val_loss: 0.0055\n",
      "Epoch 5/150\n",
      "26/26 [==============================] - 0s 2ms/step - loss: 0.0029 - val_loss: 0.0056\n",
      "Epoch 6/150\n",
      "26/26 [==============================] - 0s 2ms/step - loss: 0.0029 - val_loss: 0.0057\n",
      "Epoch 7/150\n",
      "26/26 [==============================] - 0s 2ms/step - loss: 0.0029 - val_loss: 0.0056\n",
      "Epoch 8/150\n",
      "26/26 [==============================] - 0s 2ms/step - loss: 0.0029 - val_loss: 0.0055\n",
      "Epoch 9/150\n",
      "26/26 [==============================] - 0s 2ms/step - loss: 0.0029 - val_loss: 0.0055\n",
      "Epoch 10/150\n",
      "26/26 [==============================] - 0s 2ms/step - loss: 0.0030 - val_loss: 0.0055\n",
      "Epoch 11/150\n",
      "26/26 [==============================] - 0s 2ms/step - loss: 0.0029 - val_loss: 0.0055\n",
      "Epoch 12/150\n",
      "26/26 [==============================] - 0s 2ms/step - loss: 0.0029 - val_loss: 0.0060\n",
      "Epoch 13/150\n",
      "26/26 [==============================] - 0s 3ms/step - loss: 0.0029 - val_loss: 0.0055\n",
      "Epoch 14/150\n",
      "26/26 [==============================] - 0s 2ms/step - loss: 0.0030 - val_loss: 0.0058\n",
      "Epoch 15/150\n",
      "26/26 [==============================] - 0s 2ms/step - loss: 0.0029 - val_loss: 0.0056\n",
      "Epoch 16/150\n",
      "26/26 [==============================] - 0s 2ms/step - loss: 0.0029 - val_loss: 0.0054\n",
      "Epoch 17/150\n",
      "26/26 [==============================] - 0s 2ms/step - loss: 0.0029 - val_loss: 0.0056\n",
      "Epoch 18/150\n",
      "26/26 [==============================] - 0s 2ms/step - loss: 0.0029 - val_loss: 0.0055\n",
      "Epoch 19/150\n",
      "26/26 [==============================] - 0s 2ms/step - loss: 0.0028 - val_loss: 0.0056\n",
      "Epoch 20/150\n",
      "26/26 [==============================] - 0s 2ms/step - loss: 0.0029 - val_loss: 0.0055\n",
      "Epoch 21/150\n",
      "26/26 [==============================] - 0s 3ms/step - loss: 0.0031 - val_loss: 0.0058\n",
      "Epoch 22/150\n",
      "26/26 [==============================] - 0s 3ms/step - loss: 0.0029 - val_loss: 0.0055\n",
      "Epoch 23/150\n",
      "26/26 [==============================] - 0s 3ms/step - loss: 0.0029 - val_loss: 0.0055\n",
      "Epoch 24/150\n",
      "26/26 [==============================] - 0s 3ms/step - loss: 0.0028 - val_loss: 0.0055\n",
      "Epoch 25/150\n",
      "26/26 [==============================] - 0s 3ms/step - loss: 0.0029 - val_loss: 0.0057\n",
      "Epoch 26/150\n",
      "26/26 [==============================] - 0s 3ms/step - loss: 0.0028 - val_loss: 0.0057\n",
      "Epoch 27/150\n",
      "26/26 [==============================] - 0s 3ms/step - loss: 0.0029 - val_loss: 0.0054\n",
      "Epoch 28/150\n",
      "26/26 [==============================] - 0s 2ms/step - loss: 0.0028 - val_loss: 0.0055\n",
      "Epoch 29/150\n",
      "26/26 [==============================] - 0s 2ms/step - loss: 0.0028 - val_loss: 0.0057\n",
      "Epoch 30/150\n",
      "26/26 [==============================] - 0s 2ms/step - loss: 0.0029 - val_loss: 0.0058\n",
      "Epoch 31/150\n",
      "26/26 [==============================] - 0s 2ms/step - loss: 0.0030 - val_loss: 0.0055\n",
      "Epoch 32/150\n",
      "26/26 [==============================] - 0s 3ms/step - loss: 0.0029 - val_loss: 0.0055\n",
      "Epoch 33/150\n",
      "26/26 [==============================] - 0s 3ms/step - loss: 0.0029 - val_loss: 0.0055\n",
      "Epoch 34/150\n",
      "26/26 [==============================] - 0s 3ms/step - loss: 0.0028 - val_loss: 0.0055\n",
      "Epoch 35/150\n",
      "26/26 [==============================] - 0s 3ms/step - loss: 0.0028 - val_loss: 0.0055\n",
      "Epoch 36/150\n",
      "26/26 [==============================] - 0s 3ms/step - loss: 0.0030 - val_loss: 0.0055\n",
      "Epoch 37/150\n",
      "26/26 [==============================] - 0s 2ms/step - loss: 0.0029 - val_loss: 0.0055\n",
      "Epoch 38/150\n",
      "26/26 [==============================] - 0s 3ms/step - loss: 0.0029 - val_loss: 0.0055\n",
      "Epoch 39/150\n",
      "26/26 [==============================] - 0s 3ms/step - loss: 0.0029 - val_loss: 0.0056\n",
      "Epoch 40/150\n",
      "26/26 [==============================] - 0s 3ms/step - loss: 0.0030 - val_loss: 0.0054\n",
      "Epoch 41/150\n",
      "26/26 [==============================] - 0s 3ms/step - loss: 0.0028 - val_loss: 0.0057\n",
      "Epoch 42/150\n",
      "26/26 [==============================] - 0s 2ms/step - loss: 0.0029 - val_loss: 0.0055\n",
      "Epoch 43/150\n",
      "26/26 [==============================] - 0s 2ms/step - loss: 0.0029 - val_loss: 0.0055\n",
      "Epoch 44/150\n",
      "26/26 [==============================] - 0s 2ms/step - loss: 0.0029 - val_loss: 0.0060\n",
      "Epoch 45/150\n",
      "26/26 [==============================] - 0s 2ms/step - loss: 0.0030 - val_loss: 0.0055\n",
      "Epoch 46/150\n",
      "26/26 [==============================] - 0s 2ms/step - loss: 0.0028 - val_loss: 0.0055\n",
      "Epoch 47/150\n",
      "26/26 [==============================] - 0s 2ms/step - loss: 0.0029 - val_loss: 0.0055\n",
      "Epoch 48/150\n",
      "26/26 [==============================] - 0s 2ms/step - loss: 0.0028 - val_loss: 0.0054\n",
      "Epoch 49/150\n",
      "26/26 [==============================] - 0s 2ms/step - loss: 0.0028 - val_loss: 0.0057\n",
      "Epoch 50/150\n",
      "26/26 [==============================] - 0s 2ms/step - loss: 0.0029 - val_loss: 0.0057\n",
      "Epoch 51/150\n",
      "26/26 [==============================] - 0s 2ms/step - loss: 0.0031 - val_loss: 0.0055\n",
      "Epoch 52/150\n",
      "26/26 [==============================] - 0s 2ms/step - loss: 0.0029 - val_loss: 0.0055\n",
      "Epoch 53/150\n",
      "26/26 [==============================] - 0s 2ms/step - loss: 0.0028 - val_loss: 0.0058\n",
      "Epoch 54/150\n",
      "26/26 [==============================] - 0s 2ms/step - loss: 0.0028 - val_loss: 0.0055\n",
      "Epoch 55/150\n",
      "26/26 [==============================] - 0s 2ms/step - loss: 0.0028 - val_loss: 0.0057\n",
      "Epoch 56/150\n",
      "26/26 [==============================] - 0s 2ms/step - loss: 0.0028 - val_loss: 0.0055\n",
      "Epoch 57/150\n",
      "26/26 [==============================] - 0s 2ms/step - loss: 0.0028 - val_loss: 0.0055\n",
      "Epoch 58/150\n",
      "26/26 [==============================] - 0s 2ms/step - loss: 0.0028 - val_loss: 0.0054\n",
      "Epoch 59/150\n",
      "26/26 [==============================] - 0s 2ms/step - loss: 0.0028 - val_loss: 0.0055\n",
      "Epoch 60/150\n",
      "26/26 [==============================] - 0s 2ms/step - loss: 0.0030 - val_loss: 0.0054\n",
      "Epoch 61/150\n",
      "26/26 [==============================] - 0s 2ms/step - loss: 0.0028 - val_loss: 0.0056\n",
      "Epoch 62/150\n",
      "26/26 [==============================] - 0s 2ms/step - loss: 0.0028 - val_loss: 0.0057\n",
      "Epoch 63/150\n",
      "26/26 [==============================] - 0s 2ms/step - loss: 0.0028 - val_loss: 0.0054\n",
      "Epoch 64/150\n",
      "26/26 [==============================] - 0s 2ms/step - loss: 0.0028 - val_loss: 0.0055\n",
      "Epoch 65/150\n",
      "26/26 [==============================] - 0s 3ms/step - loss: 0.0028 - val_loss: 0.0056\n",
      "Epoch 66/150\n",
      "26/26 [==============================] - 0s 2ms/step - loss: 0.0029 - val_loss: 0.0054\n",
      "Epoch 67/150\n",
      "26/26 [==============================] - 0s 2ms/step - loss: 0.0028 - val_loss: 0.0055\n",
      "Epoch 68/150\n",
      "26/26 [==============================] - 0s 2ms/step - loss: 0.0029 - val_loss: 0.0054\n",
      "Epoch 69/150\n",
      "26/26 [==============================] - 0s 2ms/step - loss: 0.0028 - val_loss: 0.0055\n",
      "Epoch 70/150\n",
      "26/26 [==============================] - 0s 2ms/step - loss: 0.0029 - val_loss: 0.0055\n",
      "Epoch 71/150\n",
      "26/26 [==============================] - 0s 2ms/step - loss: 0.0029 - val_loss: 0.0057\n",
      "Epoch 72/150\n",
      "26/26 [==============================] - 0s 2ms/step - loss: 0.0028 - val_loss: 0.0054\n",
      "Epoch 73/150\n",
      "26/26 [==============================] - 0s 2ms/step - loss: 0.0028 - val_loss: 0.0053\n",
      "Epoch 74/150\n",
      "26/26 [==============================] - 0s 2ms/step - loss: 0.0027 - val_loss: 0.0055\n",
      "Epoch 75/150\n",
      "26/26 [==============================] - 0s 2ms/step - loss: 0.0028 - val_loss: 0.0055\n",
      "Epoch 76/150\n",
      "26/26 [==============================] - 0s 2ms/step - loss: 0.0027 - val_loss: 0.0054\n",
      "Epoch 77/150\n",
      "26/26 [==============================] - 0s 2ms/step - loss: 0.0029 - val_loss: 0.0054\n",
      "Epoch 78/150\n",
      "26/26 [==============================] - 0s 2ms/step - loss: 0.0029 - val_loss: 0.0054\n",
      "Epoch 79/150\n",
      "26/26 [==============================] - 0s 2ms/step - loss: 0.0028 - val_loss: 0.0054\n",
      "Epoch 80/150\n",
      "26/26 [==============================] - 0s 2ms/step - loss: 0.0028 - val_loss: 0.0053\n",
      "Epoch 81/150\n",
      "26/26 [==============================] - 0s 2ms/step - loss: 0.0028 - val_loss: 0.0055\n",
      "Epoch 82/150\n",
      "26/26 [==============================] - 0s 2ms/step - loss: 0.0028 - val_loss: 0.0053\n",
      "Epoch 83/150\n",
      "26/26 [==============================] - 0s 2ms/step - loss: 0.0028 - val_loss: 0.0054\n",
      "Epoch 84/150\n",
      "26/26 [==============================] - 0s 2ms/step - loss: 0.0028 - val_loss: 0.0055\n",
      "Epoch 85/150\n",
      "26/26 [==============================] - 0s 2ms/step - loss: 0.0028 - val_loss: 0.0054\n",
      "Epoch 86/150\n",
      "26/26 [==============================] - 0s 2ms/step - loss: 0.0028 - val_loss: 0.0052\n",
      "Epoch 87/150\n",
      "26/26 [==============================] - 0s 2ms/step - loss: 0.0028 - val_loss: 0.0057\n",
      "Epoch 88/150\n",
      "26/26 [==============================] - 0s 2ms/step - loss: 0.0029 - val_loss: 0.0060\n",
      "Epoch 89/150\n",
      "26/26 [==============================] - 0s 2ms/step - loss: 0.0029 - val_loss: 0.0056\n",
      "Epoch 90/150\n",
      "26/26 [==============================] - 0s 2ms/step - loss: 0.0031 - val_loss: 0.0055\n",
      "Epoch 91/150\n",
      "26/26 [==============================] - 0s 2ms/step - loss: 0.0029 - val_loss: 0.0054\n",
      "Epoch 92/150\n",
      "26/26 [==============================] - 0s 2ms/step - loss: 0.0028 - val_loss: 0.0056\n",
      "Epoch 93/150\n",
      "26/26 [==============================] - 0s 2ms/step - loss: 0.0027 - val_loss: 0.0054\n",
      "Epoch 94/150\n",
      "26/26 [==============================] - 0s 2ms/step - loss: 0.0028 - val_loss: 0.0057\n",
      "Epoch 95/150\n",
      "26/26 [==============================] - 0s 2ms/step - loss: 0.0027 - val_loss: 0.0055\n",
      "Epoch 96/150\n",
      "26/26 [==============================] - 0s 2ms/step - loss: 0.0027 - val_loss: 0.0055\n",
      "Epoch 97/150\n",
      "26/26 [==============================] - 0s 2ms/step - loss: 0.0028 - val_loss: 0.0054\n",
      "Epoch 98/150\n",
      "26/26 [==============================] - 0s 2ms/step - loss: 0.0027 - val_loss: 0.0056\n",
      "Epoch 99/150\n",
      "26/26 [==============================] - 0s 2ms/step - loss: 0.0027 - val_loss: 0.0059\n",
      "Epoch 100/150\n",
      "26/26 [==============================] - 0s 2ms/step - loss: 0.0028 - val_loss: 0.0056\n",
      "Epoch 101/150\n",
      "26/26 [==============================] - 0s 2ms/step - loss: 0.0027 - val_loss: 0.0054\n",
      "Epoch 102/150\n",
      "26/26 [==============================] - 0s 2ms/step - loss: 0.0027 - val_loss: 0.0054\n",
      "Epoch 103/150\n",
      "26/26 [==============================] - 0s 2ms/step - loss: 0.0027 - val_loss: 0.0055\n",
      "Epoch 104/150\n",
      "26/26 [==============================] - 0s 2ms/step - loss: 0.0027 - val_loss: 0.0055\n",
      "Epoch 105/150\n",
      "26/26 [==============================] - 0s 3ms/step - loss: 0.0029 - val_loss: 0.0055\n",
      "Epoch 106/150\n",
      "26/26 [==============================] - 0s 2ms/step - loss: 0.0030 - val_loss: 0.0062\n",
      "Epoch 107/150\n",
      "26/26 [==============================] - 0s 2ms/step - loss: 0.0028 - val_loss: 0.0056\n",
      "Epoch 108/150\n",
      "26/26 [==============================] - 0s 2ms/step - loss: 0.0027 - val_loss: 0.0055\n",
      "Epoch 109/150\n",
      "26/26 [==============================] - 0s 2ms/step - loss: 0.0028 - val_loss: 0.0055\n",
      "Epoch 110/150\n",
      "26/26 [==============================] - 0s 2ms/step - loss: 0.0028 - val_loss: 0.0055\n",
      "Epoch 111/150\n",
      "26/26 [==============================] - 0s 2ms/step - loss: 0.0027 - val_loss: 0.0053\n",
      "Epoch 112/150\n",
      "26/26 [==============================] - 0s 2ms/step - loss: 0.0027 - val_loss: 0.0054\n",
      "Epoch 113/150\n",
      "26/26 [==============================] - 0s 2ms/step - loss: 0.0027 - val_loss: 0.0056\n",
      "Epoch 114/150\n",
      "26/26 [==============================] - 0s 2ms/step - loss: 0.0028 - val_loss: 0.0055\n",
      "Epoch 115/150\n",
      "26/26 [==============================] - 0s 2ms/step - loss: 0.0027 - val_loss: 0.0054\n",
      "Epoch 116/150\n",
      "26/26 [==============================] - 0s 2ms/step - loss: 0.0027 - val_loss: 0.0053\n",
      "Epoch 117/150\n",
      "26/26 [==============================] - 0s 2ms/step - loss: 0.0027 - val_loss: 0.0055\n",
      "Epoch 118/150\n",
      "26/26 [==============================] - 0s 2ms/step - loss: 0.0027 - val_loss: 0.0055\n",
      "Epoch 119/150\n",
      "26/26 [==============================] - 0s 2ms/step - loss: 0.0027 - val_loss: 0.0055\n",
      "Epoch 120/150\n",
      "26/26 [==============================] - 0s 2ms/step - loss: 0.0030 - val_loss: 0.0058\n",
      "Epoch 121/150\n",
      "26/26 [==============================] - 0s 2ms/step - loss: 0.0027 - val_loss: 0.0057\n",
      "Epoch 122/150\n",
      "26/26 [==============================] - 0s 2ms/step - loss: 0.0027 - val_loss: 0.0059\n",
      "Epoch 123/150\n",
      "26/26 [==============================] - 0s 2ms/step - loss: 0.0027 - val_loss: 0.0061\n",
      "Epoch 124/150\n",
      "26/26 [==============================] - 0s 2ms/step - loss: 0.0027 - val_loss: 0.0056\n",
      "Epoch 125/150\n",
      "26/26 [==============================] - 0s 2ms/step - loss: 0.0027 - val_loss: 0.0057\n",
      "Epoch 126/150\n",
      "26/26 [==============================] - 0s 2ms/step - loss: 0.0028 - val_loss: 0.0058\n",
      "Epoch 127/150\n",
      "26/26 [==============================] - 0s 2ms/step - loss: 0.0027 - val_loss: 0.0056\n",
      "Epoch 128/150\n",
      "26/26 [==============================] - 0s 2ms/step - loss: 0.0027 - val_loss: 0.0056\n",
      "Epoch 129/150\n",
      "26/26 [==============================] - 0s 2ms/step - loss: 0.0026 - val_loss: 0.0055\n",
      "Epoch 130/150\n",
      "26/26 [==============================] - 0s 2ms/step - loss: 0.0027 - val_loss: 0.0055\n",
      "Epoch 131/150\n",
      "26/26 [==============================] - 0s 2ms/step - loss: 0.0027 - val_loss: 0.0056\n",
      "Epoch 132/150\n",
      "26/26 [==============================] - 0s 2ms/step - loss: 0.0028 - val_loss: 0.0057\n",
      "Epoch 133/150\n",
      "26/26 [==============================] - 0s 2ms/step - loss: 0.0027 - val_loss: 0.0058\n",
      "Epoch 134/150\n",
      "26/26 [==============================] - 0s 2ms/step - loss: 0.0027 - val_loss: 0.0056\n",
      "Epoch 135/150\n",
      "26/26 [==============================] - 0s 2ms/step - loss: 0.0027 - val_loss: 0.0055\n",
      "Epoch 136/150\n",
      "26/26 [==============================] - 0s 2ms/step - loss: 0.0028 - val_loss: 0.0057\n",
      "Epoch 137/150\n",
      "26/26 [==============================] - 0s 2ms/step - loss: 0.0028 - val_loss: 0.0056\n",
      "Epoch 138/150\n",
      "26/26 [==============================] - 0s 2ms/step - loss: 0.0027 - val_loss: 0.0054\n",
      "Epoch 139/150\n",
      "26/26 [==============================] - 0s 2ms/step - loss: 0.0028 - val_loss: 0.0057\n",
      "Epoch 140/150\n",
      "26/26 [==============================] - 0s 2ms/step - loss: 0.0027 - val_loss: 0.0056\n",
      "Epoch 141/150\n",
      "26/26 [==============================] - 0s 2ms/step - loss: 0.0026 - val_loss: 0.0055\n",
      "Epoch 142/150\n",
      "26/26 [==============================] - 0s 2ms/step - loss: 0.0027 - val_loss: 0.0059\n",
      "Epoch 143/150\n",
      "26/26 [==============================] - 0s 2ms/step - loss: 0.0028 - val_loss: 0.0061\n",
      "Epoch 144/150\n",
      "26/26 [==============================] - 0s 2ms/step - loss: 0.0029 - val_loss: 0.0058\n",
      "Epoch 145/150\n",
      "26/26 [==============================] - 0s 2ms/step - loss: 0.0027 - val_loss: 0.0058\n",
      "Epoch 146/150\n",
      "26/26 [==============================] - 0s 2ms/step - loss: 0.0026 - val_loss: 0.0058\n",
      "Epoch 147/150\n",
      "26/26 [==============================] - 0s 2ms/step - loss: 0.0026 - val_loss: 0.0058\n",
      "Epoch 148/150\n",
      "26/26 [==============================] - 0s 2ms/step - loss: 0.0028 - val_loss: 0.0058\n",
      "Epoch 149/150\n",
      "26/26 [==============================] - 0s 2ms/step - loss: 0.0026 - val_loss: 0.0055\n",
      "Epoch 150/150\n",
      "26/26 [==============================] - 0s 2ms/step - loss: 0.0026 - val_loss: 0.0056\n"
     ]
    }
   ],
   "source": [
    "save=model.fit(X_train_scaled,y_train,batch_size=10,epochs=150,verbose=1,validation_split=0.2)"
   ]
  },
  {
   "cell_type": "code",
   "execution_count": 72,
   "id": "b229f15f",
   "metadata": {},
   "outputs": [],
   "source": [
    "tl=save.history[\"loss\"]\n",
    "cvl=save.history[\"val_loss\"]"
   ]
  },
  {
   "cell_type": "code",
   "execution_count": 73,
   "id": "0634c833",
   "metadata": {},
   "outputs": [
    {
     "data": {
      "text/plain": [
       "<matplotlib.legend.Legend at 0x29f5c2fc610>"
      ]
     },
     "execution_count": 73,
     "metadata": {},
     "output_type": "execute_result"
    },
    {
     "data": {
      "image/png": "[encoded data removed]",
      "text/plain": [
       "<Figure size 432x288 with 1 Axes>"
      ]
     },
     "metadata": {
      "needs_background": "light"
     },
     "output_type": "display_data"
    }
   ],
   "source": [
    "plt.plot(tl,label=\"training_loss\")\n",
    "plt.plot(cvl,label=\"crossval_loss\")\n",
    "plt.legend()"
   ]
  },
  {
   "cell_type": "code",
   "execution_count": 76,
   "id": "8ab1884e",
   "metadata": {},
   "outputs": [
    {
     "name": "stdout",
     "output_type": "stream",
     "text": [
      "3/3 [==============================] - 0s 2ms/step\n"
     ]
    }
   ],
   "source": [
    "y_pred=model.predict(X_test_scaled)"
   ]
  },
  {
   "cell_type": "code",
   "execution_count": 77,
   "id": "977826d5",
   "metadata": {},
   "outputs": [
    {
     "data": {
      "text/plain": [
       "0.8197216558404535"
      ]
     },
     "execution_count": 77,
     "metadata": {},
     "output_type": "execute_result"
    }
   ],
   "source": [
    "from sklearn.metrics import r2_score\n",
    "r2_score(y_test,y_pred)"
   ]
  },
  {
   "cell_type": "code",
   "execution_count": null,
   "id": "790a4fbb",
   "metadata": {},
   "outputs": [],
   "source": []
  }
 ],
 "metadata": {
  "kernelspec": {
   "display_name": "Python 3 (ipykernel)",
   "language": "python",
   "name": "python3"
  },
  "language_info": {
   "codemirror_mode": {
    "name": "ipython",
    "version": 3
   },
   "file_extension": ".py",
   "mimetype": "text/x-python",
   "name": "python",
   "nbconvert_exporter": "python",
   "pygments_lexer": "ipython3",
   "version": "3.9.12"
  }
 },
 "nbformat": 4,
 "nbformat_minor": 5
}
